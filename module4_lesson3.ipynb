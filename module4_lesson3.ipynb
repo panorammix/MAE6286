{
 "cells": [
  {
   "cell_type": "code",
   "execution_count": 2,
   "metadata": {},
   "outputs": [],
   "source": [
    "import numpy\n",
    "from matplotlib import pyplot\n",
    "%matplotlib inline"
   ]
  },
  {
   "cell_type": "code",
   "execution_count": 11,
   "metadata": {},
   "outputs": [],
   "source": [
    "T_init = 20.0 \n",
    "T_left = 100.0\n",
    "T_bot = 100.0 "
   ]
  },
  {
   "cell_type": "code",
   "execution_count": 12,
   "metadata": {},
   "outputs": [],
   "source": [
    "L = 0.01\n",
    "W = 0.01\n",
    "\n",
    "nx = 21\n",
    "ny = 21\n",
    "\n",
    "\n",
    "dx = L / (nx-1)\n",
    "dy = L / (ny-1)"
   ]
  },
  {
   "cell_type": "code",
   "execution_count": 13,
   "metadata": {},
   "outputs": [],
   "source": [
    "x = numpy.linspace(0.0,L,nx)\n",
    "y = numpy.linspace(0.0,W,ny)"
   ]
  },
  {
   "cell_type": "code",
   "execution_count": 14,
   "metadata": {},
   "outputs": [],
   "source": [
    "alpha = 1e-4"
   ]
  },
  {
   "cell_type": "code",
   "execution_count": 15,
   "metadata": {},
   "outputs": [],
   "source": [
    "T0 = numpy.full((ny,nx), 20.0)\n",
    "T0[0,:] = 100.0\n",
    "T0[:,0] = 100.0"
   ]
  },
  {
   "cell_type": "code",
   "execution_count": 19,
   "metadata": {},
   "outputs": [],
   "source": [
    "def ftcs(T0, nt, dt, dx, dy, alpha, qx = 0.0, qy = 0.0):\n",
    "    T = T0.copy()\n",
    "    sigmax = alpha * dt / dx**2\n",
    "    sigmay = alpha * dt / dy**2\n",
    "    ny, nx = T.shape\n",
    "    I, J = nx //2, ny //2\n",
    "    for n in range(nt):\n",
    "        T[1:-1,1:-1] = (T[1:-1,1:-1] + \n",
    "                        sigmax* (T[1:-1, :-2] -2*T[1:-1,1:-1] + T[1:-1,2:]) + \n",
    "                        sigmay * (T[:-2,1:-1] -2*T[1:-1,1:-1] + T[2:,1:-1]))\n",
    "        T[:,-1] = T[:,-2] + qx * dx\n",
    "        T[-1,:] = T[-2,:] + qy * dy\n",
    "        if T[J,I] >=70.0:\n",
    "            break\n",
    "    print(n+1,T[J,I])\n",
    "    return T"
   ]
  },
  {
   "cell_type": "code",
   "execution_count": 20,
   "metadata": {},
   "outputs": [
    {
     "name": "stdout",
     "output_type": "stream",
     "text": [
      "256 70.02138294076661\n"
     ]
    }
   ],
   "source": [
    "nt = 500\n",
    "sigma = 0.25\n",
    "dt = sigma * min(dx,dy)**2 / alpha\n",
    "\n",
    "T = ftcs(T0, nt, dt, dx, dy, alpha, qx = 0.0, qy = 0.0)\n",
    "    "
   ]
  },
  {
   "cell_type": "code",
   "execution_count": 48,
   "metadata": {},
   "outputs": [
    {
     "data": {
      "image/png": "[encoded data removed]",
      "text/plain": [
       "<Figure size 576x360 with 2 Axes>"
      ]
     },
     "metadata": {
      "needs_background": "light"
     },
     "output_type": "display_data"
    }
   ],
   "source": [
    "y_grid, x_grid = numpy.meshgrid (y, x)\n",
    "pyplot.figure(figsize=(8,5))\n",
    "pyplot.xlabel('x [cm]')\n",
    "pyplot.ylabel('y [cm]')\n",
    "levels = numpy.linspace(T.min(), T.max(), 11)\n",
    "cont = pyplot.contourf(x_grid*100,y_grid*100, T, levels = levels, cmap = 'afmhot')\n",
    "cbar = pyplot.colorbar(cont)\n",
    "cbar.set_label('Temperature[C]')"
   ]
  }
 ],
 "metadata": {
  "kernelspec": {
   "display_name": "Python 3",
   "language": "python",
   "name": "python3"
  },
  "language_info": {
   "codemirror_mode": {
    "name": "ipython",
    "version": 3
   },
   "file_extension": ".py",
   "mimetype": "text/x-python",
   "name": "python",
   "nbconvert_exporter": "python",
   "pygments_lexer": "ipython3",
   "version": "3.7.3"
  }
 },
 "nbformat": 4,
 "nbformat_minor": 2
}
