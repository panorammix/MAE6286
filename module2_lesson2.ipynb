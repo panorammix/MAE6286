{
 "cells": [
  {
   "cell_type": "code",
   "execution_count": 1,
   "metadata": {},
   "outputs": [],
   "source": [
    "import numpy\n",
    "from matplotlib import pyplot\n",
    "%matplotlib inline"
   ]
  },
  {
   "cell_type": "code",
   "execution_count": 8,
   "metadata": {},
   "outputs": [],
   "source": [
    "def linear_convection(nx, L=2.0, c =1.0, dt = 0.025, nt = 20):\n",
    "    dx = L/(nx-1)\n",
    "    x =numpy.linspace(0.0, L, nx)\n",
    "    u0 = numpy.ones (nx)\n",
    "    mask = numpy.where((x>=0.5) & (x<=1.0))\n",
    "    u0[mask] = 2.0\n",
    "    u = u0.copy()\n",
    "    for n in range(nt):\n",
    "        un = u.copy()\n",
    "        u[1:] = un[1:] - c*dt/dx * (un[1:] - un[:-1])\n",
    "    pyplot.figure()\n",
    "    pyplot.grid()\n",
    "    pyplot.plot(x, u0, label = 'Initial')\n",
    "    pyplot.plot (x, u, label = 'Current')\n",
    "    pyplot.legend()\n",
    "    pyplot.xlim(0,L); pyplot.ylim(0.0, 2.5)"
   ]
  },
  {
   "cell_type": "code",
   "execution_count": 12,
   "metadata": {},
   "outputs": [
    {
     "data": {
      "image/png": "[encoded data removed]",
      "text/plain": [
       "<Figure size 432x288 with 1 Axes>"
      ]
     },
     "metadata": {
      "needs_background": "light"
     },
     "output_type": "display_data"
    }
   ],
   "source": [
    "linear_convection(84)"
   ]
  },
  {
   "cell_type": "code",
   "execution_count": 40,
   "metadata": {},
   "outputs": [],
   "source": [
    "def linear_convectionCFL(nx, L=2.0, c =1.0, sigma = 0.99999, nt = 20):\n",
    "    dx = L/(nx-1)\n",
    "    x =numpy.linspace(0.0, L, nx)\n",
    "    dt = sigma*dx/c\n",
    "    u0 = numpy.ones (nx)\n",
    "    mask = numpy.where((x>=0.5) & (x<=1.0))\n",
    "    u0[mask] = 2.0\n",
    "    u = u0.copy()\n",
    "    for n in range(nt):\n",
    "        un = u.copy()\n",
    "        u[1:] = un[1:] - c*dt/dx * (un[1:] - un[:-1])\n",
    "    pyplot.figure()\n",
    "    pyplot.grid()\n",
    "    pyplot.plot(x, u0, label = 'Initial')\n",
    "    pyplot.plot (x, u, label = 'Current')\n",
    "    pyplot.legend()\n",
    "    pyplot.xlim(0,L); pyplot.ylim(0.0, 2.5)"
   ]
  },
  {
   "cell_type": "code",
   "execution_count": 41,
   "metadata": {},
   "outputs": [
    {
     "data": {
      "image/png": "[encoded data removed]",
      "text/plain": [
       "<Figure size 432x288 with 1 Axes>"
      ]
     },
     "metadata": {},
     "output_type": "display_data"
    }
   ],
   "source": [
    "linear_convectionCFL(85)"
   ]
  },
  {
   "cell_type": "code",
   "execution_count": null,
   "metadata": {},
   "outputs": [],
   "source": []
  }
 ],
 "metadata": {
  "kernelspec": {
   "display_name": "Python 3",
   "language": "python",
   "name": "python3"
  },
  "language_info": {
   "codemirror_mode": {
    "name": "ipython",
    "version": 3
   },
   "file_extension": ".py",
   "mimetype": "text/x-python",
   "name": "python",
   "nbconvert_exporter": "python",
   "pygments_lexer": "ipython3",
   "version": "3.7.3"
  }
 },
 "nbformat": 4,
 "nbformat_minor": 2
}
