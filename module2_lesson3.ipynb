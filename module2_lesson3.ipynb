{
 "cells": [
  {
   "cell_type": "code",
   "execution_count": 27,
   "metadata": {},
   "outputs": [],
   "source": [
    "import numpy\n",
    "from matplotlib import pyplot\n",
    "%matplotlib inline"
   ]
  },
  {
   "cell_type": "code",
   "execution_count": 53,
   "metadata": {},
   "outputs": [],
   "source": [
    "nx = 41\n",
    "L = 2.0\n",
    "\n",
    "dx = L / (nx-1)\n",
    "\n",
    "nu = 0.3\n",
    "\n",
    "sigma = 0.6\n",
    "\n",
    "dt = sigma * dx**2 / nu\n",
    "nt = 20\n",
    "\n",
    "x=numpy.linspace(0.0,L,nx)"
   ]
  },
  {
   "cell_type": "code",
   "execution_count": 54,
   "metadata": {},
   "outputs": [],
   "source": [
    "u0 = numpy.ones(nx)\n",
    "mask = numpy.where ( (x>=0.5)&(x<=1))\n",
    "u0 [mask] = 2.0"
   ]
  },
  {
   "cell_type": "code",
   "execution_count": 55,
   "metadata": {},
   "outputs": [],
   "source": [
    "u = u0.copy()\n",
    "for n in range(nt):\n",
    "    un = u.copy()\n",
    "    for i in range(1,nx - 1):\n",
    "        u [i] = un[i]  + sigma * (un[i-1] - 2 * un[i] + un[i+1])\n",
    "    u[0] = 1.0\n",
    "    u[-1] = 1.0\n",
    "u_naive = u"
   ]
  },
  {
   "cell_type": "code",
   "execution_count": 56,
   "metadata": {},
   "outputs": [],
   "source": [
    "u = u0.copy()\n",
    "for n in range(nt):\n",
    "        un = u.copy()\n",
    "        u[1:-1] = un[1:-1] + sigma * (un[:-2] - 2*un[1:-1] + un[2:])"
   ]
  },
  {
   "cell_type": "code",
   "execution_count": 57,
   "metadata": {},
   "outputs": [
    {
     "data": {
      "text/plain": [
       "True"
      ]
     },
     "execution_count": 57,
     "metadata": {},
     "output_type": "execute_result"
    }
   ],
   "source": [
    "numpy.allclose(u_naive, u)"
   ]
  },
  {
   "cell_type": "code",
   "execution_count": 58,
   "metadata": {},
   "outputs": [],
   "source": [
    "def diffusion ( u0, sigma = 0.6, nt = 20):\n",
    "    u_hist = [u0.copy()]\n",
    "    for n in range(nt):\n",
    "        un = u.copy()\n",
    "        u[1:-1] = un[1:-1] + sigma * (un[:-2] - 2*un[1:-1] + un[2:])\n",
    "        u_hist.append(u.copy())\n",
    "    return u_hist"
   ]
  },
  {
   "cell_type": "code",
   "execution_count": 59,
   "metadata": {},
   "outputs": [],
   "source": [
    "u_hist = diffusion (u0, sigma = sigma, nt = nt)"
   ]
  },
  {
   "cell_type": "code",
   "execution_count": 60,
   "metadata": {},
   "outputs": [
    {
     "data": {
      "text/plain": [
       "21"
      ]
     },
     "execution_count": 60,
     "metadata": {},
     "output_type": "execute_result"
    }
   ],
   "source": [
    "len(u_hist)"
   ]
  },
  {
   "cell_type": "code",
   "execution_count": 61,
   "metadata": {},
   "outputs": [],
   "source": [
    "def plot_solution (n, u_hist, x):\n",
    "    pyplot.figure()\n",
    "    pyplot.xlabel('x')\n",
    "    pyplot.ylabel('y')\n",
    "    pyplot.grid()\n",
    "    pyplot.plot(x, u_hist[0], label = \"Initial\")\n",
    "    pyplot.plot(x, u_hist[n], label = \"Current\")\n",
    "    pyplot.legend()\n",
    "    pyplot.xlim(0,2) ; pyplot.ylim (0.5, 2.5)\n",
    "    pyplot.show()"
   ]
  },
  {
   "cell_type": "code",
   "execution_count": 62,
   "metadata": {},
   "outputs": [
    {
     "data": {
      "image/png": "[encoded data removed]",
      "text/plain": [
       "<Figure size 432x288 with 1 Axes>"
      ]
     },
     "metadata": {
      "needs_background": "light"
     },
     "output_type": "display_data"
    }
   ],
   "source": [
    "plot_solution(-1,u_hist,x)"
   ]
  },
  {
   "cell_type": "code",
   "execution_count": 63,
   "metadata": {},
   "outputs": [],
   "source": [
    "import ipywidgets"
   ]
  },
  {
   "cell_type": "code",
   "execution_count": 64,
   "metadata": {},
   "outputs": [],
   "source": [
    "nt_slider = ipywidgets.IntSlider (value = 0, min = 0, max = nt, step = 1,\n",
    "                                  description = 'Time step')\n",
    "w = ipywidgets.interactive(plot_solution, n = nt_slider, u_hist = ipywidgets.fixed(u_hist), x = ipywidgets.fixed(x) )"
   ]
  },
  {
   "cell_type": "code",
   "execution_count": 65,
   "metadata": {},
   "outputs": [
    {
     "data": {
      "application/vnd.jupyter.widget-view+json": {
       "model_id": "3ee29c2c9f4545f8875988cd08e343be",
       "version_major": 2,
       "version_minor": 0
      },
      "text/plain": [
       "interactive(children=(IntSlider(value=0, description='Time step', max=20), Output()), _dom_classes=('widget-in…"
      ]
     },
     "metadata": {},
     "output_type": "display_data"
    }
   ],
   "source": [
    "w"
   ]
  },
  {
   "cell_type": "code",
   "execution_count": null,
   "metadata": {},
   "outputs": [],
   "source": []
  }
 ],
 "metadata": {
  "kernelspec": {
   "display_name": "Python 3",
   "language": "python",
   "name": "python3"
  },
  "language_info": {
   "codemirror_mode": {
    "name": "ipython",
    "version": 3
   },
   "file_extension": ".py",
   "mimetype": "text/x-python",
   "name": "python",
   "nbconvert_exporter": "python",
   "pygments_lexer": "ipython3",
   "version": "3.7.3"
  }
 },
 "nbformat": 4,
 "nbformat_minor": 2
}
