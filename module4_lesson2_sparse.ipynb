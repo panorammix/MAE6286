{
 "cells": [
  {
   "cell_type": "code",
   "execution_count": 99,
   "metadata": {},
   "outputs": [],
   "source": [
    "import numpy\n",
    "from matplotlib import pyplot\n",
    "%matplotlib inline\n",
    "from scipy import linalg\n",
    "from scipy.sparse import coo_matrix, dia_matrix\n",
    "from scipy.sparse.linalg import spsolve\n",
    "from scipy.sparse import spdiags, diags\n",
    "import sys\n",
    "from sys import getsizeof"
   ]
  },
  {
   "cell_type": "code",
   "execution_count": 100,
   "metadata": {},
   "outputs": [],
   "source": [
    "pyplot.rcParams['font.family'] = 'serif'\n",
    "pyplot.rcParams['font.size'] = 16"
   ]
  },
  {
   "cell_type": "code",
   "execution_count": 101,
   "metadata": {},
   "outputs": [],
   "source": [
    "# Set parameters.\n",
    "L = 1.0  # length of the rod\n",
    "nx = 51  # number of locations on the rod\n",
    "dx = L / (nx - 1)  # distance between two consecutive locations\n",
    "alpha = 1.22e-3  #  thermal diffusivity of the rod\n",
    "q = 100.0  # temperature gradient on the right side of the rod\n",
    "\n",
    "# Define the locations along the rod.\n",
    "x = numpy.linspace(0.0, L, num=nx)\n",
    "\n",
    "# Set the initial temperature along the rod.\n",
    "T0 = numpy.zeros(nx)\n",
    "T0[0] = 100.0"
   ]
  },
  {
   "cell_type": "code",
   "execution_count": 130,
   "metadata": {},
   "outputs": [],
   "source": [
    "def lhs_operator(N, sigma):\n",
    "    # Setup the diagonal of the operator.\n",
    "    D = numpy.diag((2.0 + 1.0 / sigma) * numpy.ones(N))\n",
    "    # Setup the Neumann condition for the last element.\n",
    "    D[-1, -1] = 1.0 + 1.0 / sigma\n",
    "    # Setup the upper diagonal of the operator.\n",
    "    U = numpy.diag(-1.0 * numpy.ones(N - 1), k=1)\n",
    "    # Setup the lower diagonal of the operator.\n",
    "    L = numpy.diag(-1.0 * numpy.ones(N - 1), k=-1)\n",
    "    # Assemble the operator.\n",
    "    A = D + U + L\n",
    "    return A"
   ]
  },
  {
   "cell_type": "code",
   "execution_count": 131,
   "metadata": {},
   "outputs": [],
   "source": [
    "def rhs_vector(T, sigma, qdx):\n",
    "\n",
    "    b = T[1:-1] / sigma\n",
    "    # Set Dirichlet condition.\n",
    "    b[0] += T[0]\n",
    "    # Set Neumann condition.\n",
    "    b[-1] += qdx\n",
    "    return b"
   ]
  },
  {
   "cell_type": "code",
   "execution_count": 132,
   "metadata": {},
   "outputs": [],
   "source": [
    "def btcs_implicit(T0, nt, dt, dx, alpha, q):\n",
    "    sigma = alpha * dt / dx**2\n",
    "    # Create the implicit operator of the system.\n",
    "    A = lhs_operator(len(T0) - 2, sigma)\n",
    "    # Integrate in time.\n",
    "    T = T0.copy()\n",
    "    for n in range(nt):\n",
    "        # Generate the right-hand side of the system.\n",
    "        b = rhs_vector(T, sigma, q * dx)\n",
    "        # Solve the system with scipy.linalg.solve.\n",
    "        T[1:-1] = linalg.solve(A, b)\n",
    "        # Apply the Neumann boundary condition.\n",
    "        T[-1] = T[-2] + q * dx\n",
    "    return T"
   ]
  },
  {
   "cell_type": "code",
   "execution_count": 133,
   "metadata": {},
   "outputs": [],
   "source": [
    "# Set the time-step size based on CFL limit.\n",
    "sigma = 0.5\n",
    "dt = sigma * dx**2 / alpha  # time-step size\n",
    "nt = 1000  # number of time steps to compute\n",
    "\n",
    "# Compute the temperature along the rod.\n",
    "T = btcs_implicit(T0, nt, dt, dx, alpha, q)"
   ]
  },
  {
   "cell_type": "code",
   "execution_count": 134,
   "metadata": {},
   "outputs": [
    {
     "data": {
      "image/png": "[encoded data removed]",
      "text/plain": [
       "<Figure size 432x288 with 1 Axes>"
      ]
     },
     "metadata": {
      "needs_background": "light"
     },
     "output_type": "display_data"
    }
   ],
   "source": [
    "# Plot the temperature along the rod.\n",
    "pyplot.figure(figsize=(6.0, 4.0))\n",
    "pyplot.xlabel('Distance [m]')\n",
    "pyplot.ylabel('Temperature [C]')\n",
    "pyplot.grid()\n",
    "pyplot.plot(x, T, color='C0', linestyle='-', linewidth=2)\n",
    "pyplot.xlim(0.0, L)\n",
    "pyplot.ylim(0.0, 100.0);"
   ]
  },
  {
   "cell_type": "code",
   "execution_count": 135,
   "metadata": {},
   "outputs": [],
   "source": [
    "def lhs_operator_sparse(N, sigma):    \n",
    "    main = numpy.ones(N) * (2.0 + 1.0 / sigma)\n",
    "    main[-1] = 1.0 + 1.0 / sigma\n",
    "    upper = numpy.ones(N-1) * -1.0\n",
    "    lower = numpy.ones(N-1) * -1.0\n",
    "    diagonals = [[lower],[main],[upper]]\n",
    "    A = diags(diagonals,[-1,0,1], shape = (N,N))\n",
    "    #A = dia_matrix(data, diags , N, N)\n",
    "    return A"
   ]
  },
  {
   "cell_type": "code",
   "execution_count": 136,
   "metadata": {},
   "outputs": [],
   "source": [
    "def btcs_implicit_sparse(T0, nt, dt, dx, alpha, q):\n",
    "    sigma = alpha * dt / dx**2\n",
    "    # Create the implicit operator of the system.\n",
    "    A = lhs_operator_sparse(len(T0) - 2, sigma)\n",
    "    # Integrate in time.\n",
    "    T = T0.copy()\n",
    "    for n in range(nt):\n",
    "        # Generate the right-hand side of the system.\n",
    "        b = rhs_vector(T, sigma, q * dx)\n",
    "        # Solve the system with scipy.linalg.solve.\n",
    "        T[1:-1] = spsolve(A,b)\n",
    "        # Apply the Neumann boundary condition.\n",
    "        T[-1] = T[-2] + q * dx\n",
    "    return T"
   ]
  },
  {
   "cell_type": "code",
   "execution_count": 137,
   "metadata": {},
   "outputs": [],
   "source": [
    "# Set the time-step size based on CFL limit.\n",
    "sigma = 0.5\n",
    "dt = sigma * dx**2 / alpha  # time-step size\n",
    "nt = 1000  # number of time steps to compute\n",
    "\n",
    "# Compute the temperature along the rod.\n",
    "T_sparse = btcs_implicit_sparse(T0, nt, dt, dx, alpha, q)"
   ]
  },
  {
   "cell_type": "code",
   "execution_count": 138,
   "metadata": {},
   "outputs": [
    {
     "data": {
      "image/png": "[encoded data removed]",
      "text/plain": [
       "<Figure size 432x288 with 1 Axes>"
      ]
     },
     "metadata": {
      "needs_background": "light"
     },
     "output_type": "display_data"
    }
   ],
   "source": [
    "# Plot the temperature along the rod.\n",
    "pyplot.figure(figsize=(6.0, 4.0))\n",
    "pyplot.xlabel('Distance [m]')\n",
    "pyplot.ylabel('Temperature [C]')\n",
    "pyplot.grid()\n",
    "pyplot.plot(x, T_sparse, color='C0', linestyle='-', linewidth=2)\n",
    "pyplot.xlim(0.0, L)\n",
    "pyplot.ylim(0.0, 100.0);"
   ]
  },
  {
   "cell_type": "code",
   "execution_count": 139,
   "metadata": {},
   "outputs": [
    {
     "name": "stdout",
     "output_type": "stream",
     "text": [
      "Size of dense matrix: 200.000112 MB\n",
      "Size of sparse matrix: 5.6e-05 MB\n",
      "Smaller by: 3571430\n"
     ]
    }
   ],
   "source": [
    "size = 5000\n",
    "A_sparse = lhs_operator_sparse(size, 2)\n",
    "A_dense = lhs_operator(size,2)\n",
    "sparse_size = sys.getsizeof(A_sparse)\n",
    "dense_size = sys.getsizeof(A_dense)\n",
    "print ('Size of dense matrix:', dense_size*1e-6, 'MB')\n",
    "print ('Size of sparse matrix:', sparse_size*1e-6, 'MB')\n",
    "print ('Smaller by:', int(dense_size/sparse_size))"
   ]
  },
  {
   "cell_type": "code",
   "execution_count": null,
   "metadata": {},
   "outputs": [],
   "source": []
  },
  {
   "cell_type": "code",
   "execution_count": null,
   "metadata": {},
   "outputs": [],
   "source": []
  }
 ],
 "metadata": {
  "kernelspec": {
   "display_name": "Python 3",
   "language": "python",
   "name": "python3"
  },
  "language_info": {
   "codemirror_mode": {
    "name": "ipython",
    "version": 3
   },
   "file_extension": ".py",
   "mimetype": "text/x-python",
   "name": "python",
   "nbconvert_exporter": "python",
   "pygments_lexer": "ipython3",
   "version": "3.7.3"
  }
 },
 "nbformat": 4,
 "nbformat_minor": 2
}
